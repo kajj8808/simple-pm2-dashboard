{
 "cells": [
  {
   "cell_type": "code",
   "execution_count": 53,
   "id": "d34c1b6e",
   "metadata": {},
   "outputs": [
    {
     "name": "stdout",
     "output_type": "stream",
     "text": [
      "[{'pid': 0, 'pm_id': 0, 'name': 'npm', 'moint': {'memory': 0, 'cpu': 0}, 'status': 'errored', 'exec_mode': 'fork_mode'}, {'pid': 107546, 'pm_id': 1, 'name': 'ex_1', 'moint': {'memory': 60538880, 'cpu': 0}, 'status': 'online', 'exec_mode': 'fork_mode'}, {'pid': 107695, 'pm_id': 2, 'name': 'ex_2', 'moint': {'memory': 60522496, 'cpu': 0}, 'status': 'online', 'exec_mode': 'fork_mode'}]\n"
     ]
    }
   ],
   "source": [
    "import subprocess\n",
    "import json\n",
    "\n",
    "\n",
    "def get_pm2_status():\n",
    "    result = subprocess.run([\"pm2\", \"jlist\"], stdout=subprocess.PIPE)\n",
    "    pm2_items = json.loads(result.stdout)\n",
    "\n",
    "    return [\n",
    "        {\n",
    "            \"pid\": item[\"pid\"],\n",
    "            \"pm_id\": item[\"pm_id\"],\n",
    "            \"name\": item[\"name\"],\n",
    "            \"moint\": item[\"monit\"],\n",
    "            \"status\": item[\"pm2_env\"][\"status\"],\n",
    "            \"exec_mode\": item[\"pm2_env\"][\"exec_mode\"],\n",
    "        } for item in pm2_items\n",
    "    ]\n",
    "\n",
    "\n",
    "pm2_status = get_pm2_status()\n",
    "print(pm2_status)\n",
    "\n",
    "\n",
    "# print(pm2_status[0][\"pm2_env\"][\"update_time\"])"
   ]
  },
  {
   "cell_type": "code",
   "execution_count": null,
   "id": "80e53d89",
   "metadata": {},
   "outputs": [],
   "source": [
    "import subprocess\n",
    "import json\n",
    "\n",
    "\n",
    "def restart_process(pm_id):\n",
    "    subprocess.run([\"pm2\", \"restart\", pm_id])\n",
    "    return None"
   ]
  }
 ],
 "metadata": {
  "kernelspec": {
   "display_name": "env",
   "language": "python",
   "name": "python3"
  },
  "language_info": {
   "codemirror_mode": {
    "name": "ipython",
    "version": 3
   },
   "file_extension": ".py",
   "mimetype": "text/x-python",
   "name": "python",
   "nbconvert_exporter": "python",
   "pygments_lexer": "ipython3",
   "version": "3.11.11"
  }
 },
 "nbformat": 4,
 "nbformat_minor": 5
}
